{
 "cells": [
  {
   "cell_type": "code",
   "execution_count": 4,
   "id": "5f340b5c-13af-4bd9-80f4-ded2e31bc5b4",
   "metadata": {},
   "outputs": [],
   "source": [
    "x = 123\n"
   ]
  },
  {
   "cell_type": "code",
   "execution_count": 7,
   "id": "b792d7bc-8757-4eb0-86dd-52ceb2e1c121",
   "metadata": {},
   "outputs": [],
   "source": [
    "y = x + 1111"
   ]
  },
  {
   "cell_type": "code",
   "execution_count": 8,
   "id": "9c5a2adc-2c53-4ed7-a3cc-147e3c9d3c16",
   "metadata": {},
   "outputs": [
    {
     "name": "stdout",
     "output_type": "stream",
     "text": [
      "1234\n"
     ]
    }
   ],
   "source": [
    "print(y)"
   ]
  },
  {
   "cell_type": "code",
   "execution_count": null,
   "id": "ff96345c-5272-4041-8dd9-46221a54db0c",
   "metadata": {},
   "outputs": [],
   "source": []
  }
 ],
 "metadata": {
  "kernelspec": {
   "display_name": "Python 3.11",
   "language": "python",
   "name": "python3"
  },
  "language_info": {
   "codemirror_mode": {
    "name": "ipython",
    "version": 3
   },
   "file_extension": ".py",
   "mimetype": "text/x-python",
   "name": "python",
   "nbconvert_exporter": "python",
   "pygments_lexer": "ipython3",
   "version": "3.11.7"
  }
 },
 "nbformat": 4,
 "nbformat_minor": 5
}
